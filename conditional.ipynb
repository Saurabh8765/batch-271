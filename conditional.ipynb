{
  "nbformat": 4,
  "nbformat_minor": 0,
  "metadata": {
    "colab": {
      "provenance": [],
      "include_colab_link": true
    },
    "kernelspec": {
      "name": "python3",
      "display_name": "Python 3"
    },
    "language_info": {
      "name": "python"
    }
  },
  "cells": [
    {
      "cell_type": "markdown",
      "metadata": {
        "id": "view-in-github",
        "colab_type": "text"
      },
      "source": [
        "<a href=\"https://colab.research.google.com/github/Saurabh8765/batch-271/blob/main/conditional.ipynb\" target=\"_parent\"><img src=\"https://colab.research.google.com/assets/colab-badge.svg\" alt=\"Open In Colab\"/></a>"
      ]
    },
    {
      "cell_type": "code",
      "execution_count": null,
      "metadata": {
        "colab": {
          "base_uri": "https://localhost:8080/"
        },
        "id": "nZxrO9RfL2PM",
        "outputId": "214584b6-18a8-4b94-d10d-fed4b298bbd6"
      },
      "outputs": [
        {
          "output_type": "execute_result",
          "data": {
            "text/plain": [
              "False"
            ]
          },
          "metadata": {},
          "execution_count": 16
        }
      ],
      "source": [
        "a=20\n",
        "b=19\n",
        "a<=b"
      ]
    },
    {
      "cell_type": "code",
      "source": [],
      "metadata": {
        "id": "f1tVeCILYjyh"
      },
      "execution_count": null,
      "outputs": []
    },
    {
      "cell_type": "code",
      "source": [
        "s1='amzn'\n",
        "s2='Amzn'\n",
        "s1!=s2"
      ],
      "metadata": {
        "colab": {
          "base_uri": "https://localhost:8080/"
        },
        "id": "Juh0I3CROSja",
        "outputId": "4e0baeba-b71a-469c-a7a0-6ee0461c720e"
      },
      "execution_count": null,
      "outputs": [
        {
          "output_type": "execute_result",
          "data": {
            "text/plain": [
              "True"
            ]
          },
          "metadata": {},
          "execution_count": 19
        }
      ]
    },
    {
      "cell_type": "code",
      "source": [
        "a==b"
      ],
      "metadata": {
        "colab": {
          "base_uri": "https://localhost:8080/"
        },
        "id": "aoD4BeIPOhqX",
        "outputId": "bc4feb18-b201-4585-f94a-d49730d00a3e"
      },
      "execution_count": null,
      "outputs": [
        {
          "output_type": "execute_result",
          "data": {
            "text/plain": [
              "False"
            ]
          },
          "metadata": {},
          "execution_count": 21
        }
      ]
    },
    {
      "cell_type": "code",
      "source": [
        "num_stock=int(float(input('enter the num of stock')))\n",
        "day=input('enter the day name')\n",
        "market=input('enter the market cond1')\n",
        "if market crase\n",
        "  print(sell everthing)\n",
        "if num_stock<3 or day=='mon':\n",
        "  print('buy')\n",
        "elif num_stock>10 and day=='wed':\n",
        "  print('sell')\n",
        "else:\n",
        "  print('hold')\n",
        "\n",
        "print('last line')\n"
      ],
      "metadata": {
        "colab": {
          "base_uri": "https://localhost:8080/"
        },
        "id": "C0cMIvqAPHx3",
        "outputId": "f556c824-ec29-48fd-cd04-dafe1829bd61"
      },
      "execution_count": null,
      "outputs": [
        {
          "output_type": "stream",
          "name": "stdout",
          "text": [
            "enter the num of stock15\n",
            "enter the day namewed\n",
            "sell\n",
            "last line\n"
          ]
        }
      ]
    },
    {
      "cell_type": "code",
      "source": [
        "#number\n",
        "number=30\n",
        "if number%2==0:\n",
        "  print('even')\n",
        "elif number%2!=0:\n",
        "  print('odd')"
      ],
      "metadata": {
        "colab": {
          "base_uri": "https://localhost:8080/"
        },
        "id": "dX3TniGlR7ER",
        "outputId": "b766967c-063f-44fa-cd98-525cc509bc67"
      },
      "execution_count": null,
      "outputs": [
        {
          "output_type": "stream",
          "name": "stdout",
          "text": [
            "even\n"
          ]
        }
      ]
    },
    {
      "cell_type": "code",
      "source": [
        "if False==0:\n",
        "  print('its true')"
      ],
      "metadata": {
        "colab": {
          "base_uri": "https://localhost:8080/"
        },
        "id": "C4f805NoUNnU",
        "outputId": "cf9a1107-4789-4ab7-bc65-a1a42aa4030f"
      },
      "execution_count": null,
      "outputs": [
        {
          "output_type": "stream",
          "name": "stdout",
          "text": [
            "its true\n"
          ]
        }
      ]
    },
    {
      "cell_type": "code",
      "source": [
        "s1='hresearch'\n",
        "if s1[0]==s1[-1]:\n",
        "  print(s1[1:-1])\n",
        "else:\n",
        "  print(s1)"
      ],
      "metadata": {
        "colab": {
          "base_uri": "https://localhost:8080/"
        },
        "id": "zrYeZg5TUbjM",
        "outputId": "3513cde6-4206-4006-92fa-35d719d19543"
      },
      "execution_count": null,
      "outputs": [
        {
          "output_type": "stream",
          "name": "stdout",
          "text": [
            "researc\n"
          ]
        }
      ]
    },
    {
      "cell_type": "code",
      "source": [
        "#fiz buz\n",
        "number=15\n",
        "#fizz div by 3\n",
        "#buzz div by 5\n",
        "#fizzbuzz if num is div by both 3 and 5\n"
      ],
      "metadata": {
        "id": "PRs78UQsYCRo"
      },
      "execution_count": null,
      "outputs": []
    },
    {
      "cell_type": "code",
      "source": [
        "number=9\n",
        "if number%3==0 and number%5==0:\n",
        "  print('fizzbuzz')\n",
        "elif number%5==0:\n",
        "  print('buzz')\n",
        "elif number%3==0:\n",
        "  print('fizz')\n",
        "print('done')"
      ],
      "metadata": {
        "colab": {
          "base_uri": "https://localhost:8080/"
        },
        "id": "k5JfUCTWaKHJ",
        "outputId": "51aeba4e-e9ec-4b5d-a303-ce6850db4fca"
      },
      "execution_count": null,
      "outputs": [
        {
          "output_type": "stream",
          "name": "stdout",
          "text": [
            "fizz\n",
            "done\n"
          ]
        }
      ]
    },
    {
      "cell_type": "code",
      "source": [
        "number=15\n",
        "if number%3==0 and number%5==0:\n",
        "  print('fizzbuzz')\n",
        "if number%5==0:\n",
        "  print('buzz')\n",
        "if number%3==0:\n",
        "  print('fizz')"
      ],
      "metadata": {
        "colab": {
          "base_uri": "https://localhost:8080/"
        },
        "id": "LorXntyIa4j0",
        "outputId": "953fd4bd-9612-4df1-e6f2-6ff0c05fd1a0"
      },
      "execution_count": null,
      "outputs": [
        {
          "output_type": "stream",
          "name": "stdout",
          "text": [
            "fizzbuzz\n",
            "buzz\n",
            "fizz\n"
          ]
        }
      ]
    },
    {
      "cell_type": "code",
      "source": [
        "hand1='scissor'\n",
        "hand2='paper'\n",
        "\n",
        "#its a tie\n",
        "#hand1 wins\n",
        "#hand2 wins\n",
        "if hand1==hand2:\n",
        "  print('its a tie')\n",
        "elif (hand1=='rock' and hand2=='scissor') or (hand1=='paper' and hand2=='rock') or (hand1=='scissor' and hand2=='paper'):\n",
        "  print('hand1 wins')\n",
        "else:\n",
        "  print('hand2 wins')\n"
      ],
      "metadata": {
        "colab": {
          "base_uri": "https://localhost:8080/"
        },
        "id": "cSB3kUs7bW5z",
        "outputId": "c31749a7-47d4-4490-bafd-84bcc82739e6"
      },
      "execution_count": null,
      "outputs": [
        {
          "output_type": "stream",
          "name": "stdout",
          "text": [
            "hand1 wins\n"
          ]
        }
      ]
    },
    {
      "cell_type": "code",
      "source": [
        "num=int(float(input('enter a number')))\n",
        "num"
      ],
      "metadata": {
        "colab": {
          "base_uri": "https://localhost:8080/"
        },
        "id": "iSYfTQNiV67-",
        "outputId": "4bb2d01b-f21c-43a5-ab11-002fd5e22eb1"
      },
      "execution_count": null,
      "outputs": [
        {
          "name": "stdout",
          "output_type": "stream",
          "text": [
            "enter a number10\n"
          ]
        },
        {
          "output_type": "execute_result",
          "data": {
            "text/plain": [
              "10"
            ]
          },
          "metadata": {},
          "execution_count": 8
        }
      ]
    },
    {
      "cell_type": "code",
      "source": [
        "day=input('enter the day name')\n",
        "day"
      ],
      "metadata": {
        "colab": {
          "base_uri": "https://localhost:8080/",
          "height": 52
        },
        "id": "Ig2nY0klV9vP",
        "outputId": "1a0dc783-0f58-42e1-ba68-830d3d5a2ccf"
      },
      "execution_count": null,
      "outputs": [
        {
          "name": "stdout",
          "output_type": "stream",
          "text": [
            "enter the day namemon\n"
          ]
        },
        {
          "output_type": "execute_result",
          "data": {
            "text/plain": [
              "'mon'"
            ],
            "application/vnd.google.colaboratory.intrinsic+json": {
              "type": "string"
            }
          },
          "metadata": {},
          "execution_count": 2
        }
      ]
    },
    {
      "cell_type": "markdown",
      "source": [
        "#problem 6\n",
        "\n"
      ],
      "metadata": {
        "id": "yV8oDAAra_IP"
      }
    },
    {
      "cell_type": "code",
      "source": [
        "purchase _prce = int(input('enter purchase price'))\n",
        "selling _price = int(input('enter selling price'))\n"
      ],
      "metadata": {
        "id": "qflVlLcpbH5B"
      },
      "execution_count": null,
      "outputs": []
    },
    {
      "cell_type": "code",
      "source": [
        " income=40000\n",
        " # convert the input to an integer\n",
        " if income>100000:\n",
        "    print('tax bracket 30%')\n",
        " elif 50000<income<=20000:\n",
        "    print('tax braket20%')\n",
        " else:\n",
        "     print('tax bracket10%')\n",
        ""
      ],
      "metadata": {
        "id": "m4MfBqoKbIF9",
        "outputId": "e24ef7f5-5b7f-4869-a952-68389cbfd3c2",
        "colab": {
          "base_uri": "https://localhost:8080/"
        }
      },
      "execution_count": 7,
      "outputs": [
        {
          "output_type": "stream",
          "name": "stdout",
          "text": [
            "tax bracket10%\n"
          ]
        }
      ]
    }
  ]
}